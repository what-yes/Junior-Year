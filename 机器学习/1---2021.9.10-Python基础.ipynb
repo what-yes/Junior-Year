{
 "cells": [
  {
   "cell_type": "markdown",
   "metadata": {},
   "source": [
    "# Python基础\n",
    "\n",
    "\n",
    "\n",
    "* ### Python数据结构\n",
    " \n",
    "* ### Python面向对象\n",
    "  \n",
    "* ### Python 异常处理\n",
    "* ### Python文件操作\n",
    " "
   ]
  },
  {
   "cell_type": "markdown",
   "metadata": {},
   "source": [
    "# Python数据结构\n",
    "\n",
    "数字、字符串、列表、元组、字典"
   ]
  },
  {
   "cell_type": "markdown",
   "metadata": {},
   "source": [
    "## 数字\n",
    "\n",
    "Python Number 数据类型用于存储数值。\n",
    "\n",
    "Python Number 数据类型用于存储数值，包括整型、长整型、浮点型、复数。"
   ]
  },
  {
   "cell_type": "markdown",
   "metadata": {},
   "source": [
    "**（1）Python math 模块**：Python 中数学运算常用的函数基本都在 math 模块"
   ]
  },
  {
   "cell_type": "code",
   "execution_count": 5,
   "metadata": {},
   "outputs": [
    {
     "name": "stdout",
     "output_type": "stream",
     "text": [
      "6\n",
      "4\n",
      "10.0\n",
      "3.0\n",
      "2.718281828459045\n"
     ]
    }
   ],
   "source": [
    "import math\n",
    "\n",
    "print(math.ceil(5.1))   #返回数字的上入整数\n",
    "\n",
    "print(math.floor(4.9))  #返回数字的下舍整数\n",
    "\n",
    "print(math.fabs(-10))   #返回数字的绝对值\n",
    "\n",
    "print(math.sqrt(9))     #返回数字的平方根\n",
    "\n",
    "print(math.exp(1))      #返回e的x次幂\n"
   ]
  },
  {
   "cell_type": "markdown",
   "metadata": {},
   "source": [
    "\n",
    "**（2）Python随机数**"
   ]
  },
  {
   "cell_type": "markdown",
   "metadata": {},
   "source": [
    "首先import random，使用random()方法即可随机生成一个[0,1)范围内的实数\n"
   ]
  },
  {
   "cell_type": "code",
   "execution_count": null,
   "metadata": {},
   "outputs": [
    {
     "name": "stdout",
     "output_type": "stream",
     "text": [
      "0.4536929444397546\n"
     ]
    }
   ],
   "source": [
    "import random\n",
    "ran = random.random()\n",
    "print(ran)"
   ]
  },
  {
   "cell_type": "markdown",
   "metadata": {},
   "source": [
    "randint()生成一个随机整数"
   ]
  },
  {
   "cell_type": "code",
   "execution_count": null,
   "metadata": {},
   "outputs": [
    {
     "name": "stdout",
     "output_type": "stream",
     "text": [
      "18\n"
     ]
    }
   ],
   "source": [
    "ran = random.randint(1,20)\n",
    "print(ran)"
   ]
  },
  {
   "cell_type": "markdown",
   "metadata": {},
   "source": [
    "# 字符串"
   ]
  },
  {
   "cell_type": "markdown",
   "metadata": {},
   "source": [
    "\n",
    "字符串连接：+"
   ]
  },
  {
   "cell_type": "code",
   "execution_count": 3,
   "metadata": {},
   "outputs": [
    {
     "name": "stdout",
     "output_type": "stream",
     "text": [
      "Hello World \n"
     ]
    }
   ],
   "source": [
    "a = \"Hello \"\n",
    "b = \"World \"\n",
    "print(a + b)"
   ]
  },
  {
   "cell_type": "markdown",
   "metadata": {},
   "source": [
    "重复输出字符串：*"
   ]
  },
  {
   "cell_type": "code",
   "execution_count": 4,
   "metadata": {},
   "outputs": [
    {
     "name": "stdout",
     "output_type": "stream",
     "text": [
      "Hello Hello Hello \n"
     ]
    }
   ],
   "source": [
    "print(a * 3)"
   ]
  },
  {
   "cell_type": "markdown",
   "metadata": {},
   "source": [
    "通过索引获取字符串中字符[]"
   ]
  },
  {
   "cell_type": "code",
   "execution_count": 5,
   "metadata": {},
   "outputs": [
    {
     "name": "stdout",
     "output_type": "stream",
     "text": [
      "H\n"
     ]
    }
   ],
   "source": [
    "print(a[0])"
   ]
  },
  {
   "cell_type": "markdown",
   "metadata": {},
   "source": [
    "字符串截取[:]  牢记：左开右闭"
   ]
  },
  {
   "cell_type": "code",
   "execution_count": 6,
   "metadata": {},
   "outputs": [
    {
     "name": "stdout",
     "output_type": "stream",
     "text": [
      "ell\n"
     ]
    }
   ],
   "source": [
    "print(a[1:4])"
   ]
  },
  {
   "cell_type": "markdown",
   "metadata": {},
   "source": [
    "判断字符串中是否包含给定的字符: in, not in"
   ]
  },
  {
   "cell_type": "code",
   "execution_count": null,
   "metadata": {},
   "outputs": [
    {
     "name": "stdout",
     "output_type": "stream",
     "text": [
      "True\n",
      "False\n"
     ]
    }
   ],
   "source": [
    "print('e' in a)\n",
    "print('e' not in a)"
   ]
  },
  {
   "cell_type": "markdown",
   "metadata": {},
   "source": [
    "join():以字符作为分隔符，将字符串中所有的元素合并为一个新的字符串"
   ]
  },
  {
   "cell_type": "code",
   "execution_count": null,
   "metadata": {},
   "outputs": [
    {
     "name": "stdout",
     "output_type": "stream",
     "text": [
      "H-e-l-l-o\n"
     ]
    }
   ],
   "source": [
    "new_str = '-'.join('Hello')\n",
    "print(new_str)"
   ]
  },
  {
   "cell_type": "markdown",
   "metadata": {},
   "source": [
    "字符串单引号、双引号、三引号"
   ]
  },
  {
   "cell_type": "code",
   "execution_count": null,
   "metadata": {},
   "outputs": [],
   "source": [
    "print('Hello World!')\n",
    "print(\"Hello World!\")"
   ]
  },
  {
   "cell_type": "markdown",
   "metadata": {},
   "source": [
    "转义字符 \\"
   ]
  },
  {
   "cell_type": "code",
   "execution_count": null,
   "metadata": {},
   "outputs": [
    {
     "name": "stdout",
     "output_type": "stream",
     "text": [
      "The \t is a tab\n",
      "I'm going to the movies\n"
     ]
    }
   ],
   "source": [
    "print(\"The \\t is a tab\")\n",
    "print('I\\'m going to the movies')"
   ]
  },
  {
   "cell_type": "markdown",
   "metadata": {},
   "source": [
    "三引号让程序员从引号和特殊字符串的泥潭里面解脱出来，自始至终保持一小块字符串的格式是所谓的WYSIWYG（**所见即所得**）格式的。"
   ]
  },
  {
   "cell_type": "code",
   "execution_count": null,
   "metadata": {},
   "outputs": [
    {
     "name": "stdout",
     "output_type": "stream",
     "text": [
      "I'm going to the movies\n",
      "\n",
      "<HTML><HEAD><TITLE>\n",
      "Friends CGI Demo</TITLE></HEAD>\n",
      "<BODY><H3>ERROR</H3>\n",
      "<B>%s</B><P>\n",
      "<FORM><INPUT TYPE=button VALUE=Back\n",
      "ONCLICK=\"window.history.back()\"></FORM>\n",
      "</BODY></HTML>\n",
      "\n"
     ]
    }
   ],
   "source": [
    "print('''I'm going to the movies''')\n",
    "\n",
    "html = '''\n",
    "<HTML><HEAD><TITLE>\n",
    "Friends CGI Demo</TITLE></HEAD>\n",
    "<BODY><H3>ERROR</H3>\n",
    "<B>%s</B><P>\n",
    "<FORM><INPUT TYPE=button VALUE=Back\n",
    "ONCLICK=\"window.history.back()\"></FORM>\n",
    "</BODY></HTML>\n",
    "'''\n",
    "print(html)"
   ]
  },
  {
   "cell_type": "markdown",
   "metadata": {},
   "source": [
    "## 列表\n",
    "\n",
    "作用：类似其他语言中的数组\n"
   ]
  },
  {
   "cell_type": "markdown",
   "metadata": {},
   "source": [
    "<br/>\n",
    "\n",
    "声明一个列表，并通过下标或索引获取元素\n",
    "\n",
    "![](https://ai-studio-static-online.cdn.bcebos.com/41840090b1c14c4daa704f9565fd5ba663d08a7d383444fa98c5c3d31f7e4c1d)\n"
   ]
  },
  {
   "cell_type": "code",
   "execution_count": null,
   "metadata": {},
   "outputs": [
    {
     "name": "stdout",
     "output_type": "stream",
     "text": [
      "jack\n",
      "tom\n"
     ]
    }
   ],
   "source": [
    "\n",
    "#声明一个列表\n",
    "names = ['jack','tom','tonney','superman','jay']\n",
    "\n",
    "#通过下标或索引获取元素\n",
    "print(names[0])\n",
    "print(names[1])"
   ]
  },
  {
   "cell_type": "code",
   "execution_count": null,
   "metadata": {},
   "outputs": [],
   "source": [
    "#获取最后一个元素\n",
    "print(names[-1])\n",
    "print(names[len(names)-1])"
   ]
  },
  {
   "cell_type": "code",
   "execution_count": null,
   "metadata": {},
   "outputs": [],
   "source": [
    "#获取第一个元素\n",
    "print(names[-5])"
   ]
  },
  {
   "cell_type": "code",
   "execution_count": null,
   "metadata": {},
   "outputs": [],
   "source": [
    "#遍历列表，获取元素\n",
    "for name in names:\n",
    "    print(name)"
   ]
  },
  {
   "cell_type": "code",
   "execution_count": null,
   "metadata": {},
   "outputs": [],
   "source": [
    "\n",
    "#查询names里面有没有superman\n",
    "for name in names:\n",
    "    if name == 'superman':\n",
    "        print('有超人')\n",
    "        break\n",
    "else:\n",
    "    print('无超人')\n",
    "    "
   ]
  },
  {
   "cell_type": "code",
   "execution_count": null,
   "metadata": {},
   "outputs": [],
   "source": [
    "#更简单的方法,来查询names里有没有superman\n",
    "if 'superman' in names:\n",
    "    print('有超人')\n",
    "else:\n",
    "    print('无超人')\n",
    "\n"
   ]
  },
  {
   "cell_type": "markdown",
   "metadata": {},
   "source": [
    "列表元素添加\n"
   ]
  },
  {
   "cell_type": "code",
   "execution_count": null,
   "metadata": {},
   "outputs": [
    {
     "name": "stdout",
     "output_type": "stream",
     "text": [
      "['杨超越']\n"
     ]
    }
   ],
   "source": [
    "#声明一个空列表\n",
    "girls = []\n",
    "\n",
    "#append(),末尾追加\n",
    "girls.append('杨超越')\n",
    "print(girls)"
   ]
  },
  {
   "cell_type": "code",
   "execution_count": null,
   "metadata": {},
   "outputs": [
    {
     "name": "stdout",
     "output_type": "stream",
     "text": [
      "['杨超越', '刘雯', '奚梦瑶', '刘雯', '奚梦瑶']\n"
     ]
    }
   ],
   "source": [
    "#extend(),一次添加多个。把一个列表添加到另一个列表 ，列表合并。\n",
    "models = ['刘雯','奚梦瑶']\n",
    "girls.extend(models)\n",
    "#girls = girls + models\n",
    "print(girls)"
   ]
  },
  {
   "cell_type": "code",
   "execution_count": null,
   "metadata": {},
   "outputs": [],
   "source": [
    "#insert():指定位置添加\n",
    "girls.insert(1,'虞书欣')\n",
    "print(girls)"
   ]
  },
  {
   "cell_type": "markdown",
   "metadata": {},
   "source": [
    "\n",
    "列表元素修改,通过下标找到元素，然后用=赋值\n"
   ]
  },
  {
   "cell_type": "code",
   "execution_count": null,
   "metadata": {},
   "outputs": [
    {
     "name": "stdout",
     "output_type": "stream",
     "text": [
      "['apple', 'pear', '香蕉', 'pineapple', '草莓']\n",
      "['apple', 'pear', '香蕉', 'pineapple', 'strawberry']\n"
     ]
    }
   ],
   "source": [
    "fruits = ['apple','pear','香蕉','pineapple','草莓']\n",
    "print(fruits)\n",
    "\n",
    "fruits[-1] = 'strawberry'\n",
    "print(fruits)\n"
   ]
  },
  {
   "cell_type": "code",
   "execution_count": null,
   "metadata": {},
   "outputs": [
    {
     "name": "stdout",
     "output_type": "stream",
     "text": [
      "['apple', 'pear', '香蕉', 'pineapple', 'strawberry']\n",
      "['apple', 'pear', 'banana', 'pineapple', 'strawberry']\n"
     ]
    }
   ],
   "source": [
    "\n",
    "'''\n",
    "将fruits列表中的‘香蕉’替换为‘banana’\n",
    "'''\n",
    "for fruit in fruits:\n",
    "    if '香蕉' in fruit:\n",
    "        fruit = 'banana'\n",
    "print(fruits)\n",
    "\n",
    "for i in range(len(fruits)):\n",
    "    if '香蕉' in fruits[i]:\n",
    "        fruits[i] = 'banana'\n",
    "        break\n",
    "print(fruits)"
   ]
  },
  {
   "cell_type": "markdown",
   "metadata": {},
   "source": [
    "<br/>\n",
    "\n",
    "列表元素删除\n"
   ]
  },
  {
   "cell_type": "code",
   "execution_count": null,
   "metadata": {},
   "outputs": [
    {
     "name": "stdout",
     "output_type": "stream",
     "text": [
      "['hello', 'pen', 'pencil', 'ruler']\n"
     ]
    }
   ],
   "source": [
    "words = ['cat','hello','pen','pencil','ruler']\n",
    "del words[0]\n",
    "print(words)"
   ]
  },
  {
   "cell_type": "code",
   "execution_count": null,
   "metadata": {},
   "outputs": [
    {
     "name": "stdout",
     "output_type": "stream",
     "text": [
      "['hello', 'pen', 'pencil', 'ruler']\n"
     ]
    }
   ],
   "source": [
    "words = ['cat','hello','pen','pencil','ruler']\n",
    "words.remove('cat')\n",
    "print(words)"
   ]
  },
  {
   "cell_type": "code",
   "execution_count": null,
   "metadata": {},
   "outputs": [
    {
     "name": "stdout",
     "output_type": "stream",
     "text": [
      "['hello', 'pen', 'pencil', 'ruler']\n"
     ]
    }
   ],
   "source": [
    "words = ['cat','hello','pen','pencil','ruler']\n",
    "words.pop(0)\n",
    "print(words)"
   ]
  },
  {
   "cell_type": "markdown",
   "metadata": {},
   "source": [
    "<br/>\n",
    "\n",
    "列表切片\n",
    "\n",
    "* 在Python中处理列表的部分元素，称之为切片。\n",
    "\n",
    "* 创建切片，可指定要使用的第一个元素和最后一个元素的索引。注意：左开右闭\n",
    "\n",
    "* 将截取的结果再次存放在一个列表中，所以还是返回列表\n",
    "\n",
    "![](https://ai-studio-static-online.cdn.bcebos.com/3e1286d72f144f378afd29d8fc720e1430919c5b0c0d413b9ca1539f3ae087a0)\n"
   ]
  },
  {
   "cell_type": "code",
   "execution_count": null,
   "metadata": {},
   "outputs": [
    {
     "name": "stdout",
     "output_type": "stream",
     "text": [
      "['tiger', 'snake', 'mouse']\n",
      "['bird']\n",
      "['snake', 'mouse']\n",
      "['dog', 'snake']\n",
      "['cat', 'tiger', 'mouse']\n"
     ]
    }
   ],
   "source": [
    "\n",
    "animals = ['cat','dog','tiger','snake','mouse','bird']\n",
    "\n",
    "print(animals[2:5])\n",
    "\n",
    "print(animals[-1:])\n",
    "\n",
    "print(animals[-3:-1])\n",
    "\n",
    "print(animals[-5:-1:2])\n",
    "\n",
    "print(animals[::2])\n"
   ]
  },
  {
   "cell_type": "markdown",
   "metadata": {},
   "source": [
    "<br/>\n",
    "\n",
    "列表排序\n",
    "\n",
    "* 随机生成10个不同的整数，并进行排序"
   ]
  },
  {
   "cell_type": "code",
   "execution_count": null,
   "metadata": {},
   "outputs": [
    {
     "name": "stdout",
     "output_type": "stream",
     "text": [
      "[8, 14, 12, 20, 13, 10, 15, 6]\n"
     ]
    }
   ],
   "source": [
    "'''\n",
    "需求：生成10个不同的随机整数，并存至列表中\n",
    "'''\n",
    "import  random\n",
    "\n",
    "random_list = []\n",
    "for i in range(10):\n",
    "    ran = random.randint(1,20)\n",
    "    if ran not in  random_list:\n",
    "        random_list.append(ran)\n",
    "print(random_list)\n"
   ]
  },
  {
   "cell_type": "markdown",
   "metadata": {},
   "source": [
    "<br/>\n",
    "\n",
    "上述代码存在什么问题吗？"
   ]
  },
  {
   "cell_type": "code",
   "execution_count": null,
   "metadata": {},
   "outputs": [],
   "source": [
    "import  random\n",
    "\n",
    "random_list = []\n",
    "i = 0\n",
    "while i < 10:\n",
    "    ran = random.randint(1,20)\n",
    "    if ran not in  random_list:\n",
    "        random_list.append(ran)\n",
    "        i+=1\n",
    "print(random_list)"
   ]
  },
  {
   "cell_type": "code",
   "execution_count": null,
   "metadata": {},
   "outputs": [],
   "source": [
    "#默认升序\n",
    "new_list = sorted(random_list)\n",
    "print(new_list)\n",
    "\n",
    "#降序\n",
    "new_list = sorted(random_list,reverse =True)\n",
    "print(new_list)"
   ]
  },
  {
   "cell_type": "markdown",
   "metadata": {},
   "source": [
    "## 元组\n",
    "与列表类似，元组中的内容不可修改"
   ]
  },
  {
   "cell_type": "code",
   "execution_count": null,
   "metadata": {},
   "outputs": [
    {
     "name": "stdout",
     "output_type": "stream",
     "text": [
      "<class 'tuple'>\n"
     ]
    }
   ],
   "source": [
    "tuple1 = ()\n",
    "print(type(tuple1))"
   ]
  },
  {
   "cell_type": "code",
   "execution_count": null,
   "metadata": {},
   "outputs": [
    {
     "name": "stdout",
     "output_type": "stream",
     "text": [
      "<class 'str'>\n"
     ]
    }
   ],
   "source": [
    "tuple2 = ('hello')\n",
    "print(type(tuple2))"
   ]
  },
  {
   "cell_type": "markdown",
   "metadata": {},
   "source": [
    "<br/>\n",
    "\n",
    "注意：元组中只有一个元素时，需要在后面加逗号！"
   ]
  },
  {
   "cell_type": "code",
   "execution_count": null,
   "metadata": {},
   "outputs": [
    {
     "name": "stdout",
     "output_type": "stream",
     "text": [
      "<class 'tuple'>\n"
     ]
    }
   ],
   "source": [
    "\n",
    "tuple3 = ('hello',)\n",
    "print(type(tuple3))"
   ]
  },
  {
   "cell_type": "markdown",
   "metadata": {},
   "source": [
    "\n",
    "元组不能修改，所以不存在往元组里加入元素。\n",
    "\n",
    "那作为容器的元组，如何存放元素？\n"
   ]
  },
  {
   "cell_type": "code",
   "execution_count": null,
   "metadata": {},
   "outputs": [
    {
     "name": "stdout",
     "output_type": "stream",
     "text": [
      "[14, 4, 2, 14, 13, 4, 12, 3, 7, 9]\n",
      "(14, 4, 2, 14, 13, 4, 12, 3, 7, 9)\n"
     ]
    }
   ],
   "source": [
    "import random\n",
    "\n",
    "random_list = []\n",
    "for i in range(10):\n",
    "    ran = random.randint(1,20)\n",
    "    random_list.append(ran)\n",
    "print(random_list)\n",
    "\n",
    "random_tuple = tuple(random_list)\n",
    "print(random_tuple)\n"
   ]
  },
  {
   "cell_type": "markdown",
   "metadata": {},
   "source": [
    "<br/>\n",
    "\n",
    "元组访问"
   ]
  },
  {
   "cell_type": "code",
   "execution_count": null,
   "metadata": {},
   "outputs": [],
   "source": [
    "\n",
    "print(random_tuple)\n",
    "print(random_tuple[0])\n",
    "print(random_tuple[-1])\n",
    "print(random_tuple[1:-3])\n",
    "print(random_tuple[::-1])"
   ]
  },
  {
   "cell_type": "markdown",
   "metadata": {},
   "source": [
    "元组的修改："
   ]
  },
  {
   "cell_type": "code",
   "execution_count": null,
   "metadata": {},
   "outputs": [
    {
     "name": "stdout",
     "output_type": "stream",
     "text": [
      "(1, 2, 3, 4, 5)\n"
     ]
    }
   ],
   "source": [
    "t1 = (1,2,3)+(4,5)\n",
    "print(t1)"
   ]
  },
  {
   "cell_type": "code",
   "execution_count": null,
   "metadata": {},
   "outputs": [
    {
     "name": "stdout",
     "output_type": "stream",
     "text": [
      "(1, 2, 1, 2)\n"
     ]
    }
   ],
   "source": [
    "t2 = (1,2) * 2\n",
    "print(t2)"
   ]
  },
  {
   "cell_type": "markdown",
   "metadata": {},
   "source": [
    "元组的一些函数："
   ]
  },
  {
   "cell_type": "code",
   "execution_count": null,
   "metadata": {},
   "outputs": [
    {
     "name": "stdout",
     "output_type": "stream",
     "text": [
      "14\n",
      "2\n",
      "82\n",
      "10\n"
     ]
    }
   ],
   "source": [
    "print(max(random_tuple))\n",
    "print(min(random_tuple))\n",
    "print(sum(random_tuple))\n",
    "print(len(random_tuple))"
   ]
  },
  {
   "cell_type": "markdown",
   "metadata": {},
   "source": [
    "## 字典"
   ]
  },
  {
   "cell_type": "code",
   "execution_count": null,
   "metadata": {},
   "outputs": [
    {
     "name": "stdout",
     "output_type": "stream",
     "text": [
      "杨超越\n"
     ]
    }
   ],
   "source": [
    "#定义一个空字典\n",
    "\n",
    "dict1 = {}\n",
    "\n",
    "dict2 = {'name':'杨超越','weight':45,'age':25}\n",
    "print(dict2['name'])\n"
   ]
  },
  {
   "cell_type": "code",
   "execution_count": null,
   "metadata": {},
   "outputs": [],
   "source": [
    "#list可以转成字典，但前提是列表中元素都要成对出现\n",
    "dict3 = dict([('name','杨超越'),('weight',45)])\n",
    "print(dict3)"
   ]
  },
  {
   "cell_type": "code",
   "execution_count": null,
   "metadata": {},
   "outputs": [
    {
     "name": "stdout",
     "output_type": "stream",
     "text": [
      "{'name': '虞书欣', 'weight': 43}\n"
     ]
    }
   ],
   "source": [
    "dict4 = {}\n",
    "dict4['name'] = '虞书欣'\n",
    "dict4['weight'] = 43\n",
    "print(dict4)"
   ]
  },
  {
   "cell_type": "code",
   "execution_count": null,
   "metadata": {},
   "outputs": [
    {
     "name": "stdout",
     "output_type": "stream",
     "text": [
      "{'name': '虞书欣', 'weight': 44}\n"
     ]
    }
   ],
   "source": [
    "dict4['weight'] = 44\n",
    "print(dict4)"
   ]
  },
  {
   "cell_type": "code",
   "execution_count": null,
   "metadata": {},
   "outputs": [
    {
     "name": "stdout",
     "output_type": "stream",
     "text": [
      "dict_items([('杨超越', 165), ('虞书欣', 166), ('上官喜爱', 164)])\n",
      "虞书欣\n"
     ]
    }
   ],
   "source": [
    "#字典里的函数 items()  keys() values()\n",
    "\n",
    "dict5 = {'杨超越':165,'虞书欣':166,'上官喜爱':164}\n",
    "print(dict5.items())\n",
    "for key,value in dict5.items():\n",
    "    if value > 165:\n",
    "        print(key)"
   ]
  },
  {
   "cell_type": "code",
   "execution_count": null,
   "metadata": {},
   "outputs": [
    {
     "name": "stdout",
     "output_type": "stream",
     "text": [
      "dict_values([165, 166, 164])\n"
     ]
    }
   ],
   "source": [
    "#values() 取出字典中所有的值,保存到列表中\n",
    "\n",
    "results = dict5.values()\n",
    "print(results)"
   ]
  },
  {
   "cell_type": "code",
   "execution_count": null,
   "metadata": {},
   "outputs": [
    {
     "name": "stdout",
     "output_type": "stream",
     "text": [
      "dict_values([165, 166, 164])\n",
      "165.0\n"
     ]
    }
   ],
   "source": [
    "#求小姐姐的平均身高\n",
    "heights = dict5.values()\n",
    "print(heights)\n",
    "total = sum(heights)\n",
    "avg = total/len(heights)\n",
    "print(avg)\n"
   ]
  },
  {
   "cell_type": "code",
   "execution_count": null,
   "metadata": {},
   "outputs": [
    {
     "name": "stdout",
     "output_type": "stream",
     "text": [
      "dict_keys(['杨超越', '虞书欣', '上官喜爱'])\n"
     ]
    }
   ],
   "source": [
    "names = dict5.keys()\n",
    "print(names)"
   ]
  },
  {
   "cell_type": "code",
   "execution_count": null,
   "metadata": {},
   "outputs": [
    {
     "name": "stdout",
     "output_type": "stream",
     "text": [
      "None\n",
      "170\n"
     ]
    }
   ],
   "source": [
    "\n",
    "#print(dict5['赵小棠'])      #若不存在“赵小棠”，会报错KeyError   \n",
    "\n",
    "print(dict5.get('赵小棠'))\n",
    "\n",
    "print(dict5.get('赵小棠',170)) #如果能够取到值，则返回字典中的值，否则返回默认值170\n"
   ]
  },
  {
   "cell_type": "code",
   "execution_count": null,
   "metadata": {},
   "outputs": [
    {
     "name": "stdout",
     "output_type": "stream",
     "text": [
      "{'虞书欣': 166, '上官喜爱': 164}\n"
     ]
    }
   ],
   "source": [
    "dict6 = {'杨超越':165,'虞书欣':166,'上官喜爱':164}\n",
    "del dict6['杨超越']\n",
    "print(dict6)"
   ]
  },
  {
   "cell_type": "code",
   "execution_count": null,
   "metadata": {},
   "outputs": [
    {
     "name": "stdout",
     "output_type": "stream",
     "text": [
      "166\n",
      "{'上官喜爱': 164}\n"
     ]
    }
   ],
   "source": [
    "result = dict6.pop('虞书欣')\n",
    "print(result)\n",
    "print(dict6)"
   ]
  },
  {
   "cell_type": "markdown",
   "metadata": {},
   "source": [
    "# Python面向对象"
   ]
  },
  {
   "cell_type": "markdown",
   "metadata": {},
   "source": [
    "定义一个类Animals:\n",
    "\n",
    "(1)__init__()定义构造函数，与其他面向对象语言不同的是，Python语言中，会明确地把代表自身实例的self作为第一个参数传入\n",
    "\n",
    "(2)创建一个实例化对象 cat，__init__()方法接收参数\n",
    "\n",
    "(3)使用点号 . 来访问对象的属性。"
   ]
  },
  {
   "cell_type": "code",
   "execution_count": null,
   "metadata": {},
   "outputs": [],
   "source": [
    "class Animal:\n",
    "\n",
    "    def __init__(self,name):\n",
    "        self.name = name\n",
    "        print('动物名称实例化')\n",
    "    def eat(self):\n",
    "        print(self.name +'要吃东西啦！')\n",
    "    def drink(self):\n",
    "        print(self.name +'要喝水啦！')\n",
    "\n",
    "cat =  Animal('miaomiao')\n",
    "print(cat.name)\n",
    "cat.eat()\n",
    "cat.drink()"
   ]
  },
  {
   "cell_type": "code",
   "execution_count": null,
   "metadata": {},
   "outputs": [],
   "source": [
    "class Person:        \n",
    "    def __init__(self,name):\n",
    "        self.name = name\n",
    "        print ('调用父类构造函数')\n",
    "\n",
    "    def eat(self):\n",
    "        print('调用父类方法')\n",
    " \n",
    "class Student(Person):  # 定义子类\n",
    "   def __init__(self):\n",
    "      print ('调用子类构造方法')\n",
    " \n",
    "   def study(self):\n",
    "      print('调用子类方法')\n",
    "\n",
    "s = Student()          # 实例化子类\n",
    "s.study()              # 调用子类的方法\n",
    "s.eat()                # 调用父类方法\n"
   ]
  },
  {
   "cell_type": "markdown",
   "metadata": {},
   "source": [
    "# Python异常处理\n",
    "\n",
    "当Python脚本发生异常时我们需要捕获处理它，否则程序会终止执行。\n",
    "\n",
    "捕捉异常可以使用try/except语句。\n",
    "\n",
    "try/except语句用来检测try语句块中的错误，从而让except语句捕获异常信息并处理。"
   ]
  },
  {
   "cell_type": "code",
   "execution_count": 7,
   "metadata": {},
   "outputs": [
    {
     "name": "stdout",
     "output_type": "stream",
     "text": [
      "Error: 没有找到文件或读取文件失败\n"
     ]
    }
   ],
   "source": [
    "try:\n",
    "    fh = open(\"testfile01.txt\", \"w\")\n",
    "    fh.write(\"这是一个测试文件，用于测试异常!!\")\n",
    "except IOError:\n",
    "    print('Error: 没有找到文件或读取文件失败')\n",
    "else:\n",
    "    print ('内容写入文件成功')\n",
    "    fh.close()"
   ]
  },
  {
   "cell_type": "markdown",
   "metadata": {},
   "source": [
    "finally中的内容，退出try时总会执行"
   ]
  },
  {
   "cell_type": "code",
   "execution_count": null,
   "metadata": {},
   "outputs": [
    {
     "name": "stdout",
     "output_type": "stream",
     "text": [
      "关闭文件\n"
     ]
    }
   ],
   "source": [
    "try:\n",
    "    f = open(\"testfile02.txt\", \"w\")\n",
    "    f.write(\"这是一个测试文件，用于测试异常!!\")\n",
    "finally:\n",
    "    print('关闭文件')\n",
    "    f.close()\n"
   ]
  },
  {
   "cell_type": "markdown",
   "metadata": {},
   "source": [
    "# Python文件操作\n",
    "\n",
    "\n",
    "在 Python 中，读写文件有 3 个步骤：\n",
    "\n",
    "（1）调用 open()函数，返回一个 File 对象。\n",
    "\n",
    "（2）调用 File 对象的 read()或 write()方法。\n",
    "\n",
    "（3）调用 File 对象的 close()方法，关闭该文件。\n"
   ]
  },
  {
   "cell_type": "code",
   "execution_count": 1,
   "metadata": {},
   "outputs": [],
   "source": [
    "f = open(\"test.txt\",'w')  #变量名=open（文件路径和文件名，打开模式） 模式：w:写，r:只写；a:追加写\n",
    "f.write(\"hello\")\n",
    "f.write(\"\\npython\")\n",
    "f.close()"
   ]
  },
  {
   "cell_type": "code",
   "execution_count": 9,
   "metadata": {},
   "outputs": [
    {
     "name": "stdout",
     "output_type": "stream",
     "text": [
      "['hello\\n', 'python']\n"
     ]
    }
   ],
   "source": [
    "f = open(\"test.txt\",'r')  #变量名=open（文件路径和文件名，打开模式） 模式：w:写，r:只写；a:追加写\n",
    "# print(f.read())     #f.read():从文件中读入整个文件内容，结果为字符串\n",
    "# print(f.readline()) #f.readline():从文件中读入一行内容，结果为字符串 \n",
    "print(f.readlines()) #f.readlines():从文件中读取所有行，以每行元素形成一个列表\n",
    "f.close()"
   ]
  },
  {
   "cell_type": "markdown",
   "metadata": {},
   "source": [
    "使用open()函数打开的文件对象，必须手动进行关闭，Python 垃圾回收机制无法自动回收打开文件所占用的资源。\n",
    "\n",
    "因此，推荐以下写法："
   ]
  },
  {
   "cell_type": "code",
   "execution_count": 10,
   "metadata": {},
   "outputs": [],
   "source": [
    "with open(\"/test.txt\",'a') as  f:\n",
    "    f.write(\"PadddlePaddle\")\n",
    "    f.write(\"\\nokokok\")\n"
   ]
  }
 ],
 "metadata": {
  "kernelspec": {
   "display_name": "Python 3",
   "language": "python",
   "name": "python3"
  },
  "language_info": {
   "codemirror_mode": {
    "name": "ipython",
    "version": 3
   },
   "file_extension": ".py",
   "mimetype": "text/x-python",
   "name": "python",
   "nbconvert_exporter": "python",
   "pygments_lexer": "ipython3",
   "version": "3.7.6"
  }
 },
 "nbformat": 4,
 "nbformat_minor": 1
}
